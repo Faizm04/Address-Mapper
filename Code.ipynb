#Run following program in Jupyter Notebook
import openpyxl 
import pyautogui as py
import gmaps
from selenium import webdriver
from selenium.webdriver.common.keys import Keys
from selenium.webdriver.common.action_chains import ActionChains
import time
from decimal import Decimal
import pandas as pd
import json
import openpyxl
import ast
wb = openpyxl.Workbook()
sheet = wb.active
#include path for chromedriver 
PATH = "C:\Program Files (x86)\chromedriver.exe"
driver = webdriver.Chrome(PATH)
a = 2
driver.get("https://www.google.com/maps")

c1 = sheet.cell(row = 1, column = 1)
c1.value = "Address"

# Give the location of the file 
path = "add excel file path which contains address and remember to add 'End' after the last box."

# To open the workbook  
# workbook object is created 
wb_obj = openpyxl.load_workbook(path) 
sheet_obj = wb_obj.active 
cell_obj = sheet_obj.cell(row = a, column = 1) 
#print(cell_obj)
cords = []
a = 2
while sheet_obj.cell(row = a, column =1).value != "END":
    cell_obj = sheet_obj.cell(row = a, column = 1).value
    
  
    a+=1
    cords_tup = []

  
    #driver.minimize_window()
    search = driver.find_element_by_xpath("//*[@id='searchboxinput']")
    time.sleep(2)
    search.send_keys(cell_obj, Keys.ENTER)
    time.sleep(3)
    url = driver.current_url
    try:
        url = url[url.index("@"):url.index("data")]
        lat = url[url.index("@")+1:url.index(",")]
        lon = '`'+url[url.index(",")+1:url.index('/')]
        lon = lon[lon.index('`')+1:lon.index(',')]
        lat = float(lat)
        lon = float(lon)
        c1 = sheet.cell(row = a-1, column = 1)
        cords_tup.append(lat)
        cords_tup.append(lon)
        cells = cords_tup
        c1.value = str(cells)
        cords.append((lat,lon))
        search.send_keys(Keys.CONTROL,"a")
        search.send_keys("")
    except ValueError:
        driver.quit()
        print("Error found Program Terminated. Please Try again")
c1 = sheet.cell(row = a, column = 1)
c1.value = "END"
print("Excel file saved...")
wb.save("add excel file path which will contain coordinates for the addresses.")

path = "add excel file path which will contain coordinates for the addresses."
cords_txt = ['Address']
# To open the workbook  
# workbook object is created 
driver.quit()
wb_obj = openpyxl.load_workbook(path) 
sheet_obj = wb_obj.active 
a = 2
while sheet_obj.cell(row = a, column = 1).value != "END":
    cell_obj = sheet_obj.cell(row = a, column = 1).value
    cell_obj = ast.literal_eval(cell_obj)
    cords_txt.append(cell_obj)
    a+=1

cords_txt = str(cords_txt)
file = open("data.txt", "w")
file.write(cords_txt)
file.close()
file = open("data.txt","r")

file.close()
  
# dictionary where the lines from
# text will be stored
dict1 = {}

fig = gmaps.figure()

markers = gmaps.marker_layer(cords)
fig.add_layer(markers)
fig
